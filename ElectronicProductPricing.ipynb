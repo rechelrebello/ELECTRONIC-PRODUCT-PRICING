{
 "cells": [
  {
   "cell_type": "markdown",
   "metadata": {},
   "source": [
    "## Marketing Project\n",
    "### RECHEL REBELLO - 0787548"
   ]
  },
  {
   "cell_type": "markdown",
   "metadata": {},
   "source": [
    "#### Using Random Forest Classifier, trying to predict whether a particular product will go on sale or not"
   ]
  },
  {
   "cell_type": "markdown",
   "metadata": {},
   "source": [
    "### Initial setup"
   ]
  },
  {
   "cell_type": "code",
   "execution_count": 1,
   "metadata": {},
   "outputs": [
    {
     "name": "stderr",
     "output_type": "stream",
     "text": [
      "C:\\Users\\Akshay\\anaconda3\\lib\\site-packages\\sklearn\\utils\\deprecation.py:143: FutureWarning: The sklearn.ensemble.forest module is  deprecated in version 0.22 and will be removed in version 0.24. The corresponding classes / functions should instead be imported from sklearn.ensemble. Anything that cannot be imported from sklearn.ensemble is now part of the private API.\n",
      "  warnings.warn(message, FutureWarning)\n"
     ]
    }
   ],
   "source": [
    "import pandas as pd\n",
    "import numpy as np\n",
    "import matplotlib.pyplot as plt\n",
    "from sklearn.model_selection import train_test_split\n",
    "from sklearn.ensemble import RandomForestClassifier\n",
    "from sklearn.metrics import mean_absolute_error, r2_score\n",
    "import numpy as np\n",
    "import category_encoders as ce\n",
    "from rfpimp import *\n",
    "import seaborn as sns"
   ]
  },
  {
   "cell_type": "code",
   "execution_count": 2,
   "metadata": {},
   "outputs": [
    {
     "data": {
      "text/html": [
       "<div>\n",
       "<style scoped>\n",
       "    .dataframe tbody tr th:only-of-type {\n",
       "        vertical-align: middle;\n",
       "    }\n",
       "\n",
       "    .dataframe tbody tr th {\n",
       "        vertical-align: top;\n",
       "    }\n",
       "\n",
       "    .dataframe thead th {\n",
       "        text-align: right;\n",
       "    }\n",
       "</style>\n",
       "<table border=\"1\" class=\"dataframe\">\n",
       "  <thead>\n",
       "    <tr style=\"text-align: right;\">\n",
       "      <th></th>\n",
       "      <th>0</th>\n",
       "      <th>1</th>\n",
       "      <th>2</th>\n",
       "      <th>3</th>\n",
       "      <th>4</th>\n",
       "    </tr>\n",
       "  </thead>\n",
       "  <tbody>\n",
       "    <tr>\n",
       "      <th>id</th>\n",
       "      <td>AVphzgbJLJeJML43fA0o</td>\n",
       "      <td>AVpgMuGwLJeJML43KY_c</td>\n",
       "      <td>AVpgMuGwLJeJML43KY_c</td>\n",
       "      <td>AVpgMuGwLJeJML43KY_c</td>\n",
       "      <td>AVpgMuGwLJeJML43KY_c</td>\n",
       "    </tr>\n",
       "    <tr>\n",
       "      <th>prices.amountMax</th>\n",
       "      <td>104.99</td>\n",
       "      <td>69</td>\n",
       "      <td>69</td>\n",
       "      <td>69.99</td>\n",
       "      <td>66.99</td>\n",
       "    </tr>\n",
       "    <tr>\n",
       "      <th>prices.amountMin</th>\n",
       "      <td>104.99</td>\n",
       "      <td>64.99</td>\n",
       "      <td>69</td>\n",
       "      <td>69.99</td>\n",
       "      <td>66.99</td>\n",
       "    </tr>\n",
       "    <tr>\n",
       "      <th>prices.availability</th>\n",
       "      <td>Yes</td>\n",
       "      <td>In Stock</td>\n",
       "      <td>In Stock</td>\n",
       "      <td>Yes</td>\n",
       "      <td>Yes</td>\n",
       "    </tr>\n",
       "    <tr>\n",
       "      <th>prices.condition</th>\n",
       "      <td>New</td>\n",
       "      <td>New</td>\n",
       "      <td>New</td>\n",
       "      <td>New</td>\n",
       "      <td>New</td>\n",
       "    </tr>\n",
       "    <tr>\n",
       "      <th>prices.currency</th>\n",
       "      <td>USD</td>\n",
       "      <td>USD</td>\n",
       "      <td>USD</td>\n",
       "      <td>USD</td>\n",
       "      <td>USD</td>\n",
       "    </tr>\n",
       "    <tr>\n",
       "      <th>prices.dateSeen</th>\n",
       "      <td>2017-03-30T06:00:00Z,2017-03-10T22:00:00Z,2017...</td>\n",
       "      <td>2017-12-14T06:00:00Z</td>\n",
       "      <td>2017-09-08T05:00:00Z</td>\n",
       "      <td>2017-10-10T05:00:00Z</td>\n",
       "      <td>2017-08-28T07:00:00Z</td>\n",
       "    </tr>\n",
       "    <tr>\n",
       "      <th>prices.isSale</th>\n",
       "      <td>False</td>\n",
       "      <td>True</td>\n",
       "      <td>False</td>\n",
       "      <td>False</td>\n",
       "      <td>False</td>\n",
       "    </tr>\n",
       "    <tr>\n",
       "      <th>prices.merchant</th>\n",
       "      <td>Bestbuy.com</td>\n",
       "      <td>Walmart.com</td>\n",
       "      <td>Walmart.com</td>\n",
       "      <td>Bestbuy.com</td>\n",
       "      <td>Bestbuy.com</td>\n",
       "    </tr>\n",
       "    <tr>\n",
       "      <th>prices.shipping</th>\n",
       "      <td>NaN</td>\n",
       "      <td>Expedited</td>\n",
       "      <td>Expedited</td>\n",
       "      <td>NaN</td>\n",
       "      <td>NaN</td>\n",
       "    </tr>\n",
       "    <tr>\n",
       "      <th>prices.sourceURLs</th>\n",
       "      <td>http://www.bestbuy.com/site/sanus-tv-wall-moun...</td>\n",
       "      <td>https://www.walmart.com/ip/BOYTONE-BT210FB-BLA...</td>\n",
       "      <td>https://www.walmart.com/ip/Boytone-BT-210F-Blu...</td>\n",
       "      <td>https://www.bestbuy.com/site/boytone-2500w-2-1...</td>\n",
       "      <td>https://www.bestbuy.com/site/boytone-2500w-2-1...</td>\n",
       "    </tr>\n",
       "    <tr>\n",
       "      <th>asins</th>\n",
       "      <td>B00C78VIUE</td>\n",
       "      <td>B018K251JE,B00VILQKQ8</td>\n",
       "      <td>B018K251JE,B00VILQKQ8</td>\n",
       "      <td>B018K251JE,B00VILQKQ8</td>\n",
       "      <td>B018K251JE,B00VILQKQ8</td>\n",
       "    </tr>\n",
       "    <tr>\n",
       "      <th>brand</th>\n",
       "      <td>Sanus</td>\n",
       "      <td>Boytone</td>\n",
       "      <td>Boytone</td>\n",
       "      <td>Boytone</td>\n",
       "      <td>Boytone</td>\n",
       "    </tr>\n",
       "    <tr>\n",
       "      <th>categories</th>\n",
       "      <td>Audio &amp; Video Accessories,TV Mounts,TV Accesso...</td>\n",
       "      <td>Stereos,Portable Bluetooth Speakers,TV, Video ...</td>\n",
       "      <td>Stereos,Portable Bluetooth Speakers,TV, Video ...</td>\n",
       "      <td>Stereos,Portable Bluetooth Speakers,TV, Video ...</td>\n",
       "      <td>Stereos,Portable Bluetooth Speakers,TV, Video ...</td>\n",
       "    </tr>\n",
       "    <tr>\n",
       "      <th>dateAdded</th>\n",
       "      <td>2015-04-13T12:00:51Z</td>\n",
       "      <td>2015-05-18T14:14:56Z</td>\n",
       "      <td>2015-05-18T14:14:56Z</td>\n",
       "      <td>2015-05-18T14:14:56Z</td>\n",
       "      <td>2015-05-18T14:14:56Z</td>\n",
       "    </tr>\n",
       "    <tr>\n",
       "      <th>dateUpdated</th>\n",
       "      <td>2018-05-12T18:59:48Z</td>\n",
       "      <td>2018-06-13T19:39:02Z</td>\n",
       "      <td>2018-06-13T19:39:02Z</td>\n",
       "      <td>2018-06-13T19:39:02Z</td>\n",
       "      <td>2018-06-13T19:39:02Z</td>\n",
       "    </tr>\n",
       "    <tr>\n",
       "      <th>ean</th>\n",
       "      <td>NaN</td>\n",
       "      <td>NaN</td>\n",
       "      <td>NaN</td>\n",
       "      <td>NaN</td>\n",
       "      <td>NaN</td>\n",
       "    </tr>\n",
       "    <tr>\n",
       "      <th>imageURLs</th>\n",
       "      <td>https://images-na.ssl-images-amazon.com/images...</td>\n",
       "      <td>https://images-na.ssl-images-amazon.com/images...</td>\n",
       "      <td>https://images-na.ssl-images-amazon.com/images...</td>\n",
       "      <td>https://images-na.ssl-images-amazon.com/images...</td>\n",
       "      <td>https://images-na.ssl-images-amazon.com/images...</td>\n",
       "    </tr>\n",
       "    <tr>\n",
       "      <th>keys</th>\n",
       "      <td>sanusvlf410b110inchsuperslimfullmotionmountfor...</td>\n",
       "      <td>boytone2500w21chhometheatersystemblackdiamond/...</td>\n",
       "      <td>boytone2500w21chhometheatersystemblackdiamond/...</td>\n",
       "      <td>boytone2500w21chhometheatersystemblackdiamond/...</td>\n",
       "      <td>boytone2500w21chhometheatersystemblackdiamond/...</td>\n",
       "    </tr>\n",
       "    <tr>\n",
       "      <th>manufacturer</th>\n",
       "      <td>NaN</td>\n",
       "      <td>Boytone</td>\n",
       "      <td>Boytone</td>\n",
       "      <td>Boytone</td>\n",
       "      <td>Boytone</td>\n",
       "    </tr>\n",
       "    <tr>\n",
       "      <th>manufacturerNumber</th>\n",
       "      <td>VLF410B1</td>\n",
       "      <td>BT-210F</td>\n",
       "      <td>BT-210F</td>\n",
       "      <td>BT-210F</td>\n",
       "      <td>BT-210F</td>\n",
       "    </tr>\n",
       "    <tr>\n",
       "      <th>name</th>\n",
       "      <td>Sanus VLF410B1 10-Inch Super Slim Full-Motion ...</td>\n",
       "      <td>Boytone - 2500W 2.1-Ch. Home Theater System - ...</td>\n",
       "      <td>Boytone - 2500W 2.1-Ch. Home Theater System - ...</td>\n",
       "      <td>Boytone - 2500W 2.1-Ch. Home Theater System - ...</td>\n",
       "      <td>Boytone - 2500W 2.1-Ch. Home Theater System - ...</td>\n",
       "    </tr>\n",
       "    <tr>\n",
       "      <th>primaryCategories</th>\n",
       "      <td>Electronics</td>\n",
       "      <td>Electronics</td>\n",
       "      <td>Electronics</td>\n",
       "      <td>Electronics</td>\n",
       "      <td>Electronics</td>\n",
       "    </tr>\n",
       "    <tr>\n",
       "      <th>sourceURLs</th>\n",
       "      <td>https://www.amazon.com/Sanus-VLF410B1-10-Inch-...</td>\n",
       "      <td>http://reviews.bestbuy.com/3545/4784804/review...</td>\n",
       "      <td>http://reviews.bestbuy.com/3545/4784804/review...</td>\n",
       "      <td>http://reviews.bestbuy.com/3545/4784804/review...</td>\n",
       "      <td>http://reviews.bestbuy.com/3545/4784804/review...</td>\n",
       "    </tr>\n",
       "    <tr>\n",
       "      <th>upc</th>\n",
       "      <td>7.93796E+11</td>\n",
       "      <td>6.42015E+11</td>\n",
       "      <td>6.42015E+11</td>\n",
       "      <td>6.42015E+11</td>\n",
       "      <td>6.42015E+11</td>\n",
       "    </tr>\n",
       "    <tr>\n",
       "      <th>weight</th>\n",
       "      <td>32.8 pounds</td>\n",
       "      <td>14 pounds</td>\n",
       "      <td>14 pounds</td>\n",
       "      <td>14 pounds</td>\n",
       "      <td>14 pounds</td>\n",
       "    </tr>\n",
       "    <tr>\n",
       "      <th>Unnamed: 26</th>\n",
       "      <td>NaN</td>\n",
       "      <td>NaN</td>\n",
       "      <td>NaN</td>\n",
       "      <td>NaN</td>\n",
       "      <td>NaN</td>\n",
       "    </tr>\n",
       "    <tr>\n",
       "      <th>Unnamed: 27</th>\n",
       "      <td>NaN</td>\n",
       "      <td>NaN</td>\n",
       "      <td>NaN</td>\n",
       "      <td>NaN</td>\n",
       "      <td>NaN</td>\n",
       "    </tr>\n",
       "    <tr>\n",
       "      <th>Unnamed: 28</th>\n",
       "      <td>NaN</td>\n",
       "      <td>NaN</td>\n",
       "      <td>NaN</td>\n",
       "      <td>NaN</td>\n",
       "      <td>NaN</td>\n",
       "    </tr>\n",
       "    <tr>\n",
       "      <th>Unnamed: 29</th>\n",
       "      <td>NaN</td>\n",
       "      <td>NaN</td>\n",
       "      <td>NaN</td>\n",
       "      <td>NaN</td>\n",
       "      <td>NaN</td>\n",
       "    </tr>\n",
       "    <tr>\n",
       "      <th>Unnamed: 30</th>\n",
       "      <td>NaN</td>\n",
       "      <td>NaN</td>\n",
       "      <td>NaN</td>\n",
       "      <td>NaN</td>\n",
       "      <td>NaN</td>\n",
       "    </tr>\n",
       "  </tbody>\n",
       "</table>\n",
       "</div>"
      ],
      "text/plain": [
       "                                                                     0  \\\n",
       "id                                                AVphzgbJLJeJML43fA0o   \n",
       "prices.amountMax                                                104.99   \n",
       "prices.amountMin                                                104.99   \n",
       "prices.availability                                                Yes   \n",
       "prices.condition                                                   New   \n",
       "prices.currency                                                    USD   \n",
       "prices.dateSeen      2017-03-30T06:00:00Z,2017-03-10T22:00:00Z,2017...   \n",
       "prices.isSale                                                    False   \n",
       "prices.merchant                                            Bestbuy.com   \n",
       "prices.shipping                                                    NaN   \n",
       "prices.sourceURLs    http://www.bestbuy.com/site/sanus-tv-wall-moun...   \n",
       "asins                                                       B00C78VIUE   \n",
       "brand                                                            Sanus   \n",
       "categories           Audio & Video Accessories,TV Mounts,TV Accesso...   \n",
       "dateAdded                                         2015-04-13T12:00:51Z   \n",
       "dateUpdated                                       2018-05-12T18:59:48Z   \n",
       "ean                                                                NaN   \n",
       "imageURLs            https://images-na.ssl-images-amazon.com/images...   \n",
       "keys                 sanusvlf410b110inchsuperslimfullmotionmountfor...   \n",
       "manufacturer                                                       NaN   \n",
       "manufacturerNumber                                            VLF410B1   \n",
       "name                 Sanus VLF410B1 10-Inch Super Slim Full-Motion ...   \n",
       "primaryCategories                                          Electronics   \n",
       "sourceURLs           https://www.amazon.com/Sanus-VLF410B1-10-Inch-...   \n",
       "upc                                                        7.93796E+11   \n",
       "weight                                                     32.8 pounds   \n",
       "Unnamed: 26                                                        NaN   \n",
       "Unnamed: 27                                                        NaN   \n",
       "Unnamed: 28                                                        NaN   \n",
       "Unnamed: 29                                                        NaN   \n",
       "Unnamed: 30                                                        NaN   \n",
       "\n",
       "                                                                     1  \\\n",
       "id                                                AVpgMuGwLJeJML43KY_c   \n",
       "prices.amountMax                                                    69   \n",
       "prices.amountMin                                                 64.99   \n",
       "prices.availability                                           In Stock   \n",
       "prices.condition                                                   New   \n",
       "prices.currency                                                    USD   \n",
       "prices.dateSeen                                   2017-12-14T06:00:00Z   \n",
       "prices.isSale                                                     True   \n",
       "prices.merchant                                            Walmart.com   \n",
       "prices.shipping                                              Expedited   \n",
       "prices.sourceURLs    https://www.walmart.com/ip/BOYTONE-BT210FB-BLA...   \n",
       "asins                                            B018K251JE,B00VILQKQ8   \n",
       "brand                                                          Boytone   \n",
       "categories           Stereos,Portable Bluetooth Speakers,TV, Video ...   \n",
       "dateAdded                                         2015-05-18T14:14:56Z   \n",
       "dateUpdated                                       2018-06-13T19:39:02Z   \n",
       "ean                                                                NaN   \n",
       "imageURLs            https://images-na.ssl-images-amazon.com/images...   \n",
       "keys                 boytone2500w21chhometheatersystemblackdiamond/...   \n",
       "manufacturer                                                   Boytone   \n",
       "manufacturerNumber                                             BT-210F   \n",
       "name                 Boytone - 2500W 2.1-Ch. Home Theater System - ...   \n",
       "primaryCategories                                          Electronics   \n",
       "sourceURLs           http://reviews.bestbuy.com/3545/4784804/review...   \n",
       "upc                                                        6.42015E+11   \n",
       "weight                                                       14 pounds   \n",
       "Unnamed: 26                                                        NaN   \n",
       "Unnamed: 27                                                        NaN   \n",
       "Unnamed: 28                                                        NaN   \n",
       "Unnamed: 29                                                        NaN   \n",
       "Unnamed: 30                                                        NaN   \n",
       "\n",
       "                                                                     2  \\\n",
       "id                                                AVpgMuGwLJeJML43KY_c   \n",
       "prices.amountMax                                                    69   \n",
       "prices.amountMin                                                    69   \n",
       "prices.availability                                           In Stock   \n",
       "prices.condition                                                   New   \n",
       "prices.currency                                                    USD   \n",
       "prices.dateSeen                                   2017-09-08T05:00:00Z   \n",
       "prices.isSale                                                    False   \n",
       "prices.merchant                                            Walmart.com   \n",
       "prices.shipping                                              Expedited   \n",
       "prices.sourceURLs    https://www.walmart.com/ip/Boytone-BT-210F-Blu...   \n",
       "asins                                            B018K251JE,B00VILQKQ8   \n",
       "brand                                                          Boytone   \n",
       "categories           Stereos,Portable Bluetooth Speakers,TV, Video ...   \n",
       "dateAdded                                         2015-05-18T14:14:56Z   \n",
       "dateUpdated                                       2018-06-13T19:39:02Z   \n",
       "ean                                                                NaN   \n",
       "imageURLs            https://images-na.ssl-images-amazon.com/images...   \n",
       "keys                 boytone2500w21chhometheatersystemblackdiamond/...   \n",
       "manufacturer                                                   Boytone   \n",
       "manufacturerNumber                                             BT-210F   \n",
       "name                 Boytone - 2500W 2.1-Ch. Home Theater System - ...   \n",
       "primaryCategories                                          Electronics   \n",
       "sourceURLs           http://reviews.bestbuy.com/3545/4784804/review...   \n",
       "upc                                                        6.42015E+11   \n",
       "weight                                                       14 pounds   \n",
       "Unnamed: 26                                                        NaN   \n",
       "Unnamed: 27                                                        NaN   \n",
       "Unnamed: 28                                                        NaN   \n",
       "Unnamed: 29                                                        NaN   \n",
       "Unnamed: 30                                                        NaN   \n",
       "\n",
       "                                                                     3  \\\n",
       "id                                                AVpgMuGwLJeJML43KY_c   \n",
       "prices.amountMax                                                 69.99   \n",
       "prices.amountMin                                                 69.99   \n",
       "prices.availability                                                Yes   \n",
       "prices.condition                                                   New   \n",
       "prices.currency                                                    USD   \n",
       "prices.dateSeen                                   2017-10-10T05:00:00Z   \n",
       "prices.isSale                                                    False   \n",
       "prices.merchant                                            Bestbuy.com   \n",
       "prices.shipping                                                    NaN   \n",
       "prices.sourceURLs    https://www.bestbuy.com/site/boytone-2500w-2-1...   \n",
       "asins                                            B018K251JE,B00VILQKQ8   \n",
       "brand                                                          Boytone   \n",
       "categories           Stereos,Portable Bluetooth Speakers,TV, Video ...   \n",
       "dateAdded                                         2015-05-18T14:14:56Z   \n",
       "dateUpdated                                       2018-06-13T19:39:02Z   \n",
       "ean                                                                NaN   \n",
       "imageURLs            https://images-na.ssl-images-amazon.com/images...   \n",
       "keys                 boytone2500w21chhometheatersystemblackdiamond/...   \n",
       "manufacturer                                                   Boytone   \n",
       "manufacturerNumber                                             BT-210F   \n",
       "name                 Boytone - 2500W 2.1-Ch. Home Theater System - ...   \n",
       "primaryCategories                                          Electronics   \n",
       "sourceURLs           http://reviews.bestbuy.com/3545/4784804/review...   \n",
       "upc                                                        6.42015E+11   \n",
       "weight                                                       14 pounds   \n",
       "Unnamed: 26                                                        NaN   \n",
       "Unnamed: 27                                                        NaN   \n",
       "Unnamed: 28                                                        NaN   \n",
       "Unnamed: 29                                                        NaN   \n",
       "Unnamed: 30                                                        NaN   \n",
       "\n",
       "                                                                     4  \n",
       "id                                                AVpgMuGwLJeJML43KY_c  \n",
       "prices.amountMax                                                 66.99  \n",
       "prices.amountMin                                                 66.99  \n",
       "prices.availability                                                Yes  \n",
       "prices.condition                                                   New  \n",
       "prices.currency                                                    USD  \n",
       "prices.dateSeen                                   2017-08-28T07:00:00Z  \n",
       "prices.isSale                                                    False  \n",
       "prices.merchant                                            Bestbuy.com  \n",
       "prices.shipping                                                    NaN  \n",
       "prices.sourceURLs    https://www.bestbuy.com/site/boytone-2500w-2-1...  \n",
       "asins                                            B018K251JE,B00VILQKQ8  \n",
       "brand                                                          Boytone  \n",
       "categories           Stereos,Portable Bluetooth Speakers,TV, Video ...  \n",
       "dateAdded                                         2015-05-18T14:14:56Z  \n",
       "dateUpdated                                       2018-06-13T19:39:02Z  \n",
       "ean                                                                NaN  \n",
       "imageURLs            https://images-na.ssl-images-amazon.com/images...  \n",
       "keys                 boytone2500w21chhometheatersystemblackdiamond/...  \n",
       "manufacturer                                                   Boytone  \n",
       "manufacturerNumber                                             BT-210F  \n",
       "name                 Boytone - 2500W 2.1-Ch. Home Theater System - ...  \n",
       "primaryCategories                                          Electronics  \n",
       "sourceURLs           http://reviews.bestbuy.com/3545/4784804/review...  \n",
       "upc                                                        6.42015E+11  \n",
       "weight                                                       14 pounds  \n",
       "Unnamed: 26                                                        NaN  \n",
       "Unnamed: 27                                                        NaN  \n",
       "Unnamed: 28                                                        NaN  \n",
       "Unnamed: 29                                                        NaN  \n",
       "Unnamed: 30                                                        NaN  "
      ]
     },
     "execution_count": 2,
     "metadata": {},
     "output_type": "execute_result"
    }
   ],
   "source": [
    "df_raw = pd.read_csv(\"DatafinitiElectronicsProductsPricingData.csv\")\n",
    "df = df_raw.copy()\n",
    "df.head().T"
   ]
  },
  {
   "cell_type": "code",
   "execution_count": 3,
   "metadata": {},
   "outputs": [
    {
     "data": {
      "text/plain": [
       "(14592, 31)"
      ]
     },
     "execution_count": 3,
     "metadata": {},
     "output_type": "execute_result"
    }
   ],
   "source": [
    "df.shape"
   ]
  },
  {
   "cell_type": "markdown",
   "metadata": {},
   "source": [
    "### Data exploration"
   ]
  },
  {
   "cell_type": "code",
   "execution_count": 4,
   "metadata": {},
   "outputs": [],
   "source": [
    "def data_info(df):\n",
    "    with pd.option_context(\"display.max_colwidth\", 20):\n",
    "        info = pd.DataFrame()\n",
    "        info['data type'] = df.dtypes\n",
    "        info['percent missing'] = df.isnull().sum()*100/len(df)\n",
    "        info['No. unique'] = df.apply(lambda x: len(x.unique()))\n",
    "        info['unique values'] = df.apply(lambda x: x.unique())\n",
    "        return info.sort_values('data type')"
   ]
  },
  {
   "cell_type": "code",
   "execution_count": 5,
   "metadata": {},
   "outputs": [
    {
     "data": {
      "text/html": [
       "<div>\n",
       "<style scoped>\n",
       "    .dataframe tbody tr th:only-of-type {\n",
       "        vertical-align: middle;\n",
       "    }\n",
       "\n",
       "    .dataframe tbody tr th {\n",
       "        vertical-align: top;\n",
       "    }\n",
       "\n",
       "    .dataframe thead th {\n",
       "        text-align: right;\n",
       "    }\n",
       "</style>\n",
       "<table border=\"1\" class=\"dataframe\">\n",
       "  <thead>\n",
       "    <tr style=\"text-align: right;\">\n",
       "      <th></th>\n",
       "      <th>data type</th>\n",
       "      <th>percent missing</th>\n",
       "      <th>No. unique</th>\n",
       "      <th>unique values</th>\n",
       "    </tr>\n",
       "  </thead>\n",
       "  <tbody>\n",
       "    <tr>\n",
       "      <th>prices.isSale</th>\n",
       "      <td>bool</td>\n",
       "      <td>0.000000</td>\n",
       "      <td>2</td>\n",
       "      <td>[False, True]</td>\n",
       "    </tr>\n",
       "    <tr>\n",
       "      <th>prices.amountMax</th>\n",
       "      <td>float64</td>\n",
       "      <td>0.000000</td>\n",
       "      <td>4697</td>\n",
       "      <td>[104.99, 69.0, 69.99, 66.99, 66.0, 74.99, 65.9...</td>\n",
       "    </tr>\n",
       "    <tr>\n",
       "      <th>prices.amountMin</th>\n",
       "      <td>float64</td>\n",
       "      <td>0.000000</td>\n",
       "      <td>4907</td>\n",
       "      <td>[104.99, 64.99, 69.0, 69.99, 66.99, 66.0, 74.9...</td>\n",
       "    </tr>\n",
       "    <tr>\n",
       "      <th>Unnamed: 28</th>\n",
       "      <td>float64</td>\n",
       "      <td>99.958882</td>\n",
       "      <td>2</td>\n",
       "      <td>[nan, 884938000000.0]</td>\n",
       "    </tr>\n",
       "    <tr>\n",
       "      <th>id</th>\n",
       "      <td>object</td>\n",
       "      <td>0.000000</td>\n",
       "      <td>1245</td>\n",
       "      <td>[AVphzgbJLJeJML43fA0o, AVpgMuGwLJeJML43KY_c, A...</td>\n",
       "    </tr>\n",
       "    <tr>\n",
       "      <th>Unnamed: 27</th>\n",
       "      <td>object</td>\n",
       "      <td>99.876645</td>\n",
       "      <td>3</td>\n",
       "      <td>[nan, https://www.walmart.com/ip/Pioneer-Avh-x...</td>\n",
       "    </tr>\n",
       "    <tr>\n",
       "      <th>Unnamed: 26</th>\n",
       "      <td>object</td>\n",
       "      <td>99.732730</td>\n",
       "      <td>3</td>\n",
       "      <td>[nan, https://www.bestbuy.com/site/acer-15-6-c...</td>\n",
       "    </tr>\n",
       "    <tr>\n",
       "      <th>weight</th>\n",
       "      <td>object</td>\n",
       "      <td>0.000000</td>\n",
       "      <td>805</td>\n",
       "      <td>[32.8 pounds, 14 pounds, 1.2 pounds, 13.2 poun...</td>\n",
       "    </tr>\n",
       "    <tr>\n",
       "      <th>upc</th>\n",
       "      <td>object</td>\n",
       "      <td>0.000000</td>\n",
       "      <td>654</td>\n",
       "      <td>[7.93796E+11, 6.42015E+11, 8.14352E+11, 7.5242...</td>\n",
       "    </tr>\n",
       "    <tr>\n",
       "      <th>sourceURLs</th>\n",
       "      <td>object</td>\n",
       "      <td>0.000000</td>\n",
       "      <td>1192</td>\n",
       "      <td>[https://www.amazon.com/Sanus-VLF410B1-10-Inch...</td>\n",
       "    </tr>\n",
       "    <tr>\n",
       "      <th>primaryCategories</th>\n",
       "      <td>object</td>\n",
       "      <td>0.000000</td>\n",
       "      <td>6</td>\n",
       "      <td>[Electronics,  Siri Eyes Free, Electronics,Fur...</td>\n",
       "    </tr>\n",
       "    <tr>\n",
       "      <th>name</th>\n",
       "      <td>object</td>\n",
       "      <td>0.000000</td>\n",
       "      <td>1229</td>\n",
       "      <td>[Sanus VLF410B1 10-Inch Super Slim Full-Motion...</td>\n",
       "    </tr>\n",
       "    <tr>\n",
       "      <th>manufacturerNumber</th>\n",
       "      <td>object</td>\n",
       "      <td>0.000000</td>\n",
       "      <td>1245</td>\n",
       "      <td>[VLF410B1, BT-210F, DQ-PA3032U-5525, TREMOR, N...</td>\n",
       "    </tr>\n",
       "    <tr>\n",
       "      <th>manufacturer</th>\n",
       "      <td>object</td>\n",
       "      <td>47.793311</td>\n",
       "      <td>268</td>\n",
       "      <td>[nan, Boytone, Dantona, YAMAHA, Bose, Motorola...</td>\n",
       "    </tr>\n",
       "    <tr>\n",
       "      <th>keys</th>\n",
       "      <td>object</td>\n",
       "      <td>0.000000</td>\n",
       "      <td>1245</td>\n",
       "      <td>[sanusvlf410b110inchsuperslimfullmotionmountfo...</td>\n",
       "    </tr>\n",
       "    <tr>\n",
       "      <th>imageURLs</th>\n",
       "      <td>object</td>\n",
       "      <td>0.000000</td>\n",
       "      <td>1242</td>\n",
       "      <td>[https://images-na.ssl-images-amazon.com/image...</td>\n",
       "    </tr>\n",
       "    <tr>\n",
       "      <th>dateUpdated</th>\n",
       "      <td>object</td>\n",
       "      <td>0.000000</td>\n",
       "      <td>1045</td>\n",
       "      <td>[2018-05-12T18:59:48Z, 2018-06-13T19:39:02Z, 2...</td>\n",
       "    </tr>\n",
       "    <tr>\n",
       "      <th>Unnamed: 29</th>\n",
       "      <td>object</td>\n",
       "      <td>99.917763</td>\n",
       "      <td>2</td>\n",
       "      <td>[nan, 6.3 pounds]</td>\n",
       "    </tr>\n",
       "    <tr>\n",
       "      <th>dateAdded</th>\n",
       "      <td>object</td>\n",
       "      <td>0.000000</td>\n",
       "      <td>1176</td>\n",
       "      <td>[2015-04-13T12:00:51Z, 2015-05-18T14:14:56Z, 2...</td>\n",
       "    </tr>\n",
       "    <tr>\n",
       "      <th>categories</th>\n",
       "      <td>object</td>\n",
       "      <td>0.000000</td>\n",
       "      <td>1199</td>\n",
       "      <td>[Audio &amp; Video Accessories,TV Mounts,TV Access...</td>\n",
       "    </tr>\n",
       "    <tr>\n",
       "      <th>brand</th>\n",
       "      <td>object</td>\n",
       "      <td>0.000000</td>\n",
       "      <td>309</td>\n",
       "      <td>[Sanus, Boytone, DENAQ, DreamWave, Yamaha, Uni...</td>\n",
       "    </tr>\n",
       "    <tr>\n",
       "      <th>asins</th>\n",
       "      <td>object</td>\n",
       "      <td>0.000000</td>\n",
       "      <td>1245</td>\n",
       "      <td>[B00C78VIUE, B018K251JE,B00VILQKQ8, B002P9GP62...</td>\n",
       "    </tr>\n",
       "    <tr>\n",
       "      <th>prices.sourceURLs</th>\n",
       "      <td>object</td>\n",
       "      <td>0.000000</td>\n",
       "      <td>8529</td>\n",
       "      <td>[http://www.bestbuy.com/site/sanus-tv-wall-mou...</td>\n",
       "    </tr>\n",
       "    <tr>\n",
       "      <th>prices.shipping</th>\n",
       "      <td>object</td>\n",
       "      <td>39.740954</td>\n",
       "      <td>213</td>\n",
       "      <td>[nan, Expedited, Value, Standard, Free Shippin...</td>\n",
       "    </tr>\n",
       "    <tr>\n",
       "      <th>prices.merchant</th>\n",
       "      <td>object</td>\n",
       "      <td>5.290570</td>\n",
       "      <td>1559</td>\n",
       "      <td>[Bestbuy.com, Walmart.com, California Electron...</td>\n",
       "    </tr>\n",
       "    <tr>\n",
       "      <th>prices.dateSeen</th>\n",
       "      <td>object</td>\n",
       "      <td>0.000000</td>\n",
       "      <td>6984</td>\n",
       "      <td>[2017-03-30T06:00:00Z,2017-03-10T22:00:00Z,201...</td>\n",
       "    </tr>\n",
       "    <tr>\n",
       "      <th>prices.currency</th>\n",
       "      <td>object</td>\n",
       "      <td>0.000000</td>\n",
       "      <td>5</td>\n",
       "      <td>[USD, CAD, SGD, EUR, GBP]</td>\n",
       "    </tr>\n",
       "    <tr>\n",
       "      <th>prices.condition</th>\n",
       "      <td>object</td>\n",
       "      <td>9.614857</td>\n",
       "      <td>19</td>\n",
       "      <td>[New, new, Seller refurbished, Used, pre-owned...</td>\n",
       "    </tr>\n",
       "    <tr>\n",
       "      <th>prices.availability</th>\n",
       "      <td>object</td>\n",
       "      <td>13.192160</td>\n",
       "      <td>18</td>\n",
       "      <td>[Yes, In Stock, TRUE, undefined, yes, Out Of S...</td>\n",
       "    </tr>\n",
       "    <tr>\n",
       "      <th>ean</th>\n",
       "      <td>object</td>\n",
       "      <td>71.162281</td>\n",
       "      <td>212</td>\n",
       "      <td>[nan, 27108105321, 8.16479E+11, 7.35029E+11, 8...</td>\n",
       "    </tr>\n",
       "    <tr>\n",
       "      <th>Unnamed: 30</th>\n",
       "      <td>object</td>\n",
       "      <td>99.958882</td>\n",
       "      <td>2</td>\n",
       "      <td>[nan, 4.8 pounds]</td>\n",
       "    </tr>\n",
       "  </tbody>\n",
       "</table>\n",
       "</div>"
      ],
      "text/plain": [
       "                    data type  percent missing  No. unique  \\\n",
       "prices.isSale            bool         0.000000           2   \n",
       "prices.amountMax      float64         0.000000        4697   \n",
       "prices.amountMin      float64         0.000000        4907   \n",
       "Unnamed: 28           float64        99.958882           2   \n",
       "id                     object         0.000000        1245   \n",
       "Unnamed: 27            object        99.876645           3   \n",
       "Unnamed: 26            object        99.732730           3   \n",
       "weight                 object         0.000000         805   \n",
       "upc                    object         0.000000         654   \n",
       "sourceURLs             object         0.000000        1192   \n",
       "primaryCategories      object         0.000000           6   \n",
       "name                   object         0.000000        1229   \n",
       "manufacturerNumber     object         0.000000        1245   \n",
       "manufacturer           object        47.793311         268   \n",
       "keys                   object         0.000000        1245   \n",
       "imageURLs              object         0.000000        1242   \n",
       "dateUpdated            object         0.000000        1045   \n",
       "Unnamed: 29            object        99.917763           2   \n",
       "dateAdded              object         0.000000        1176   \n",
       "categories             object         0.000000        1199   \n",
       "brand                  object         0.000000         309   \n",
       "asins                  object         0.000000        1245   \n",
       "prices.sourceURLs      object         0.000000        8529   \n",
       "prices.shipping        object        39.740954         213   \n",
       "prices.merchant        object         5.290570        1559   \n",
       "prices.dateSeen        object         0.000000        6984   \n",
       "prices.currency        object         0.000000           5   \n",
       "prices.condition       object         9.614857          19   \n",
       "prices.availability    object        13.192160          18   \n",
       "ean                    object        71.162281         212   \n",
       "Unnamed: 30            object        99.958882           2   \n",
       "\n",
       "                                                         unique values  \n",
       "prices.isSale                                            [False, True]  \n",
       "prices.amountMax     [104.99, 69.0, 69.99, 66.99, 66.0, 74.99, 65.9...  \n",
       "prices.amountMin     [104.99, 64.99, 69.0, 69.99, 66.99, 66.0, 74.9...  \n",
       "Unnamed: 28                                      [nan, 884938000000.0]  \n",
       "id                   [AVphzgbJLJeJML43fA0o, AVpgMuGwLJeJML43KY_c, A...  \n",
       "Unnamed: 27          [nan, https://www.walmart.com/ip/Pioneer-Avh-x...  \n",
       "Unnamed: 26          [nan, https://www.bestbuy.com/site/acer-15-6-c...  \n",
       "weight               [32.8 pounds, 14 pounds, 1.2 pounds, 13.2 poun...  \n",
       "upc                  [7.93796E+11, 6.42015E+11, 8.14352E+11, 7.5242...  \n",
       "sourceURLs           [https://www.amazon.com/Sanus-VLF410B1-10-Inch...  \n",
       "primaryCategories    [Electronics,  Siri Eyes Free, Electronics,Fur...  \n",
       "name                 [Sanus VLF410B1 10-Inch Super Slim Full-Motion...  \n",
       "manufacturerNumber   [VLF410B1, BT-210F, DQ-PA3032U-5525, TREMOR, N...  \n",
       "manufacturer         [nan, Boytone, Dantona, YAMAHA, Bose, Motorola...  \n",
       "keys                 [sanusvlf410b110inchsuperslimfullmotionmountfo...  \n",
       "imageURLs            [https://images-na.ssl-images-amazon.com/image...  \n",
       "dateUpdated          [2018-05-12T18:59:48Z, 2018-06-13T19:39:02Z, 2...  \n",
       "Unnamed: 29                                          [nan, 6.3 pounds]  \n",
       "dateAdded            [2015-04-13T12:00:51Z, 2015-05-18T14:14:56Z, 2...  \n",
       "categories           [Audio & Video Accessories,TV Mounts,TV Access...  \n",
       "brand                [Sanus, Boytone, DENAQ, DreamWave, Yamaha, Uni...  \n",
       "asins                [B00C78VIUE, B018K251JE,B00VILQKQ8, B002P9GP62...  \n",
       "prices.sourceURLs    [http://www.bestbuy.com/site/sanus-tv-wall-mou...  \n",
       "prices.shipping      [nan, Expedited, Value, Standard, Free Shippin...  \n",
       "prices.merchant      [Bestbuy.com, Walmart.com, California Electron...  \n",
       "prices.dateSeen      [2017-03-30T06:00:00Z,2017-03-10T22:00:00Z,201...  \n",
       "prices.currency                              [USD, CAD, SGD, EUR, GBP]  \n",
       "prices.condition     [New, new, Seller refurbished, Used, pre-owned...  \n",
       "prices.availability  [Yes, In Stock, TRUE, undefined, yes, Out Of S...  \n",
       "ean                  [nan, 27108105321, 8.16479E+11, 7.35029E+11, 8...  \n",
       "Unnamed: 30                                          [nan, 4.8 pounds]  "
      ]
     },
     "execution_count": 5,
     "metadata": {},
     "output_type": "execute_result"
    }
   ],
   "source": [
    "data_info(df)"
   ]
  },
  {
   "cell_type": "markdown",
   "metadata": {
    "tags": []
   },
   "source": [
    "### Initial Cleanup"
   ]
  },
  {
   "cell_type": "markdown",
   "metadata": {},
   "source": [
    "###### Drop all columns having >= 90% missing values"
   ]
  },
  {
   "cell_type": "code",
   "execution_count": 6,
   "metadata": {},
   "outputs": [],
   "source": [
    "df_trans = df.T"
   ]
  },
  {
   "cell_type": "code",
   "execution_count": 7,
   "metadata": {},
   "outputs": [],
   "source": [
    "perc = 90.0\n",
    "min_count =  int(((100-perc)/100)*df_trans.shape[1] + 1)\n",
    "mod_df = df_trans.dropna( axis=0, \n",
    "                    thresh=min_count)"
   ]
  },
  {
   "cell_type": "code",
   "execution_count": 8,
   "metadata": {},
   "outputs": [],
   "source": [
    "df = mod_df.T"
   ]
  },
  {
   "cell_type": "markdown",
   "metadata": {},
   "source": [
    "###### Dropping meaningless columns"
   ]
  },
  {
   "cell_type": "code",
   "execution_count": 9,
   "metadata": {},
   "outputs": [],
   "source": [
    "df = df.drop(['ean'],axis=1)"
   ]
  },
  {
   "cell_type": "markdown",
   "metadata": {},
   "source": [
    "###### Converting all object type variables to lowercase"
   ]
  },
  {
   "cell_type": "code",
   "execution_count": 10,
   "metadata": {},
   "outputs": [],
   "source": [
    "def lower(df):\n",
    "    df = df.applymap(lambda x:x.lower() if type(x) == str else x)\n",
    "    return df"
   ]
  },
  {
   "cell_type": "code",
   "execution_count": 11,
   "metadata": {},
   "outputs": [],
   "source": [
    "df['prices.availability'] = df['prices.availability'].replace(np.nan,0)"
   ]
  },
  {
   "cell_type": "code",
   "execution_count": 12,
   "metadata": {},
   "outputs": [
    {
     "data": {
      "text/plain": [
       "array(['Yes', 'In Stock', 'TRUE', 'undefined', 'yes', 'Out Of Stock',\n",
       "       'Special Order', 'No', 'More on the Way', 'sold', 'FALSE',\n",
       "       'Retired', '32 available', '7 available', 0, 'Limited Stock',\n",
       "       'Discontinued', 'More Coming Soon'], dtype=object)"
      ]
     },
     "execution_count": 12,
     "metadata": {},
     "output_type": "execute_result"
    }
   ],
   "source": [
    "df['prices.availability'].unique()"
   ]
  },
  {
   "cell_type": "code",
   "execution_count": 13,
   "metadata": {},
   "outputs": [
    {
     "data": {
      "text/html": [
       "<div>\n",
       "<style scoped>\n",
       "    .dataframe tbody tr th:only-of-type {\n",
       "        vertical-align: middle;\n",
       "    }\n",
       "\n",
       "    .dataframe tbody tr th {\n",
       "        vertical-align: top;\n",
       "    }\n",
       "\n",
       "    .dataframe thead th {\n",
       "        text-align: right;\n",
       "    }\n",
       "</style>\n",
       "<table border=\"1\" class=\"dataframe\">\n",
       "  <thead>\n",
       "    <tr style=\"text-align: right;\">\n",
       "      <th></th>\n",
       "      <th>data type</th>\n",
       "      <th>percent missing</th>\n",
       "      <th>No. unique</th>\n",
       "      <th>unique values</th>\n",
       "    </tr>\n",
       "  </thead>\n",
       "  <tbody>\n",
       "    <tr>\n",
       "      <th>prices.isSale</th>\n",
       "      <td>bool</td>\n",
       "      <td>0.000000</td>\n",
       "      <td>2</td>\n",
       "      <td>[False, True]</td>\n",
       "    </tr>\n",
       "    <tr>\n",
       "      <th>prices.amountMax</th>\n",
       "      <td>float64</td>\n",
       "      <td>0.000000</td>\n",
       "      <td>4697</td>\n",
       "      <td>[104.99, 69.0, 69.99, 66.99, 66.0, 74.99, 65.9...</td>\n",
       "    </tr>\n",
       "    <tr>\n",
       "      <th>prices.amountMin</th>\n",
       "      <td>float64</td>\n",
       "      <td>0.000000</td>\n",
       "      <td>4907</td>\n",
       "      <td>[104.99, 64.99, 69.0, 69.99, 66.99, 66.0, 74.9...</td>\n",
       "    </tr>\n",
       "    <tr>\n",
       "      <th>id</th>\n",
       "      <td>object</td>\n",
       "      <td>0.000000</td>\n",
       "      <td>1245</td>\n",
       "      <td>[avphzgbjljejml43fa0o, avpgmugwljejml43ky_c, a...</td>\n",
       "    </tr>\n",
       "    <tr>\n",
       "      <th>sourceURLs</th>\n",
       "      <td>object</td>\n",
       "      <td>0.000000</td>\n",
       "      <td>1192</td>\n",
       "      <td>[https://www.amazon.com/sanus-vlf410b1-10-inch...</td>\n",
       "    </tr>\n",
       "    <tr>\n",
       "      <th>...</th>\n",
       "      <td>...</td>\n",
       "      <td>...</td>\n",
       "      <td>...</td>\n",
       "      <td>...</td>\n",
       "    </tr>\n",
       "    <tr>\n",
       "      <th>prices.currency</th>\n",
       "      <td>object</td>\n",
       "      <td>0.000000</td>\n",
       "      <td>5</td>\n",
       "      <td>[usd, cad, sgd, eur, gbp]</td>\n",
       "    </tr>\n",
       "    <tr>\n",
       "      <th>prices.condition</th>\n",
       "      <td>object</td>\n",
       "      <td>9.614857</td>\n",
       "      <td>17</td>\n",
       "      <td>[new, seller refurbished, used, pre-owned, ref...</td>\n",
       "    </tr>\n",
       "    <tr>\n",
       "      <th>prices.availability</th>\n",
       "      <td>object</td>\n",
       "      <td>0.000000</td>\n",
       "      <td>17</td>\n",
       "      <td>[yes, in stock, true, undefined, out of stock,...</td>\n",
       "    </tr>\n",
       "    <tr>\n",
       "      <th>categories</th>\n",
       "      <td>object</td>\n",
       "      <td>0.000000</td>\n",
       "      <td>1199</td>\n",
       "      <td>[audio &amp; video accessories,tv mounts,tv access...</td>\n",
       "    </tr>\n",
       "    <tr>\n",
       "      <th>weight</th>\n",
       "      <td>object</td>\n",
       "      <td>0.000000</td>\n",
       "      <td>805</td>\n",
       "      <td>[32.8 pounds, 14 pounds, 1.2 pounds, 13.2 poun...</td>\n",
       "    </tr>\n",
       "  </tbody>\n",
       "</table>\n",
       "<p>25 rows × 4 columns</p>\n",
       "</div>"
      ],
      "text/plain": [
       "                    data type  percent missing  No. unique  \\\n",
       "prices.isSale            bool         0.000000           2   \n",
       "prices.amountMax      float64         0.000000        4697   \n",
       "prices.amountMin      float64         0.000000        4907   \n",
       "id                     object         0.000000        1245   \n",
       "sourceURLs             object         0.000000        1192   \n",
       "...                       ...              ...         ...   \n",
       "prices.currency        object         0.000000           5   \n",
       "prices.condition       object         9.614857          17   \n",
       "prices.availability    object         0.000000          17   \n",
       "categories             object         0.000000        1199   \n",
       "weight                 object         0.000000         805   \n",
       "\n",
       "                                                         unique values  \n",
       "prices.isSale                                            [False, True]  \n",
       "prices.amountMax     [104.99, 69.0, 69.99, 66.99, 66.0, 74.99, 65.9...  \n",
       "prices.amountMin     [104.99, 64.99, 69.0, 69.99, 66.99, 66.0, 74.9...  \n",
       "id                   [avphzgbjljejml43fa0o, avpgmugwljejml43ky_c, a...  \n",
       "sourceURLs           [https://www.amazon.com/sanus-vlf410b1-10-inch...  \n",
       "...                                                                ...  \n",
       "prices.currency                              [usd, cad, sgd, eur, gbp]  \n",
       "prices.condition     [new, seller refurbished, used, pre-owned, ref...  \n",
       "prices.availability  [yes, in stock, true, undefined, out of stock,...  \n",
       "categories           [audio & video accessories,tv mounts,tv access...  \n",
       "weight               [32.8 pounds, 14 pounds, 1.2 pounds, 13.2 poun...  \n",
       "\n",
       "[25 rows x 4 columns]"
      ]
     },
     "execution_count": 13,
     "metadata": {},
     "output_type": "execute_result"
    }
   ],
   "source": [
    "df = lower(df)\n",
    "pd.options.display.max_rows = 10\n",
    "data_info(df)"
   ]
  },
  {
   "cell_type": "markdown",
   "metadata": {},
   "source": [
    "### Final Cleanup"
   ]
  },
  {
   "cell_type": "code",
   "execution_count": 14,
   "metadata": {},
   "outputs": [],
   "source": [
    "df = df.dropna(axis=1)"
   ]
  },
  {
   "cell_type": "code",
   "execution_count": 15,
   "metadata": {},
   "outputs": [
    {
     "data": {
      "text/plain": [
       "(14592, 21)"
      ]
     },
     "execution_count": 15,
     "metadata": {},
     "output_type": "execute_result"
    }
   ],
   "source": [
    "df.shape"
   ]
  },
  {
   "cell_type": "code",
   "execution_count": 16,
   "metadata": {
    "scrolled": true
   },
   "outputs": [
    {
     "data": {
      "text/html": [
       "<div>\n",
       "<style scoped>\n",
       "    .dataframe tbody tr th:only-of-type {\n",
       "        vertical-align: middle;\n",
       "    }\n",
       "\n",
       "    .dataframe tbody tr th {\n",
       "        vertical-align: top;\n",
       "    }\n",
       "\n",
       "    .dataframe thead th {\n",
       "        text-align: right;\n",
       "    }\n",
       "</style>\n",
       "<table border=\"1\" class=\"dataframe\">\n",
       "  <thead>\n",
       "    <tr style=\"text-align: right;\">\n",
       "      <th></th>\n",
       "      <th>data type</th>\n",
       "      <th>percent missing</th>\n",
       "      <th>No. unique</th>\n",
       "      <th>unique values</th>\n",
       "    </tr>\n",
       "  </thead>\n",
       "  <tbody>\n",
       "    <tr>\n",
       "      <th>prices.isSale</th>\n",
       "      <td>bool</td>\n",
       "      <td>0.0</td>\n",
       "      <td>2</td>\n",
       "      <td>[False, True]</td>\n",
       "    </tr>\n",
       "    <tr>\n",
       "      <th>prices.amountMax</th>\n",
       "      <td>float64</td>\n",
       "      <td>0.0</td>\n",
       "      <td>4697</td>\n",
       "      <td>[104.99, 69.0, 69.99, 66.99, 66.0, 74.99, 65.9...</td>\n",
       "    </tr>\n",
       "    <tr>\n",
       "      <th>prices.amountMin</th>\n",
       "      <td>float64</td>\n",
       "      <td>0.0</td>\n",
       "      <td>4907</td>\n",
       "      <td>[104.99, 64.99, 69.0, 69.99, 66.99, 66.0, 74.9...</td>\n",
       "    </tr>\n",
       "    <tr>\n",
       "      <th>id</th>\n",
       "      <td>object</td>\n",
       "      <td>0.0</td>\n",
       "      <td>1245</td>\n",
       "      <td>[avphzgbjljejml43fa0o, avpgmugwljejml43ky_c, a...</td>\n",
       "    </tr>\n",
       "    <tr>\n",
       "      <th>sourceURLs</th>\n",
       "      <td>object</td>\n",
       "      <td>0.0</td>\n",
       "      <td>1192</td>\n",
       "      <td>[https://www.amazon.com/sanus-vlf410b1-10-inch...</td>\n",
       "    </tr>\n",
       "    <tr>\n",
       "      <th>...</th>\n",
       "      <td>...</td>\n",
       "      <td>...</td>\n",
       "      <td>...</td>\n",
       "      <td>...</td>\n",
       "    </tr>\n",
       "    <tr>\n",
       "      <th>prices.dateSeen</th>\n",
       "      <td>object</td>\n",
       "      <td>0.0</td>\n",
       "      <td>6984</td>\n",
       "      <td>[2017-03-30t06:00:00z,2017-03-10t22:00:00z,201...</td>\n",
       "    </tr>\n",
       "    <tr>\n",
       "      <th>prices.currency</th>\n",
       "      <td>object</td>\n",
       "      <td>0.0</td>\n",
       "      <td>5</td>\n",
       "      <td>[usd, cad, sgd, eur, gbp]</td>\n",
       "    </tr>\n",
       "    <tr>\n",
       "      <th>prices.availability</th>\n",
       "      <td>object</td>\n",
       "      <td>0.0</td>\n",
       "      <td>17</td>\n",
       "      <td>[yes, in stock, true, undefined, out of stock,...</td>\n",
       "    </tr>\n",
       "    <tr>\n",
       "      <th>dateAdded</th>\n",
       "      <td>object</td>\n",
       "      <td>0.0</td>\n",
       "      <td>1176</td>\n",
       "      <td>[2015-04-13t12:00:51z, 2015-05-18t14:14:56z, 2...</td>\n",
       "    </tr>\n",
       "    <tr>\n",
       "      <th>weight</th>\n",
       "      <td>object</td>\n",
       "      <td>0.0</td>\n",
       "      <td>805</td>\n",
       "      <td>[32.8 pounds, 14 pounds, 1.2 pounds, 13.2 poun...</td>\n",
       "    </tr>\n",
       "  </tbody>\n",
       "</table>\n",
       "<p>21 rows × 4 columns</p>\n",
       "</div>"
      ],
      "text/plain": [
       "                    data type  percent missing  No. unique  \\\n",
       "prices.isSale            bool              0.0           2   \n",
       "prices.amountMax      float64              0.0        4697   \n",
       "prices.amountMin      float64              0.0        4907   \n",
       "id                     object              0.0        1245   \n",
       "sourceURLs             object              0.0        1192   \n",
       "...                       ...              ...         ...   \n",
       "prices.dateSeen        object              0.0        6984   \n",
       "prices.currency        object              0.0           5   \n",
       "prices.availability    object              0.0          17   \n",
       "dateAdded              object              0.0        1176   \n",
       "weight                 object              0.0         805   \n",
       "\n",
       "                                                         unique values  \n",
       "prices.isSale                                            [False, True]  \n",
       "prices.amountMax     [104.99, 69.0, 69.99, 66.99, 66.0, 74.99, 65.9...  \n",
       "prices.amountMin     [104.99, 64.99, 69.0, 69.99, 66.99, 66.0, 74.9...  \n",
       "id                   [avphzgbjljejml43fa0o, avpgmugwljejml43ky_c, a...  \n",
       "sourceURLs           [https://www.amazon.com/sanus-vlf410b1-10-inch...  \n",
       "...                                                                ...  \n",
       "prices.dateSeen      [2017-03-30t06:00:00z,2017-03-10t22:00:00z,201...  \n",
       "prices.currency                              [usd, cad, sgd, eur, gbp]  \n",
       "prices.availability  [yes, in stock, true, undefined, out of stock,...  \n",
       "dateAdded            [2015-04-13t12:00:51z, 2015-05-18t14:14:56z, 2...  \n",
       "weight               [32.8 pounds, 14 pounds, 1.2 pounds, 13.2 poun...  \n",
       "\n",
       "[21 rows x 4 columns]"
      ]
     },
     "execution_count": 16,
     "metadata": {},
     "output_type": "execute_result"
    }
   ],
   "source": [
    "data_info(df)"
   ]
  },
  {
   "cell_type": "markdown",
   "metadata": {},
   "source": [
    "### Plots"
   ]
  },
  {
   "cell_type": "code",
   "execution_count": 17,
   "metadata": {},
   "outputs": [
    {
     "data": {
      "image/png": "[encoded data removed]",
      "text/plain": [
       "<Figure size 720x360 with 1 Axes>"
      ]
     },
     "metadata": {
      "needs_background": "light"
     },
     "output_type": "display_data"
    }
   ],
   "source": [
    "plt.figure(figsize=(10,5))\n",
    "chart = sns.countplot(x = df['brand'].head(100))\n",
    "chart.set_xticklabels(chart.get_xticklabels(), rotation=90);"
   ]
  },
  {
   "cell_type": "markdown",
   "metadata": {},
   "source": [
    "The plot shows the popularity of each brand amongst the electronic store with alpine being highest amongst the bunch."
   ]
  },
  {
   "cell_type": "code",
   "execution_count": 18,
   "metadata": {},
   "outputs": [
    {
     "data": {
      "image/png": "[encoded data removed]",
      "text/plain": [
       "<Figure size 648x648 with 1 Axes>"
      ]
     },
     "metadata": {
      "needs_background": "light"
     },
     "output_type": "display_data"
    }
   ],
   "source": [
    "table = pd.pivot_table(data=df,index=df['brand'].head(100),values='prices.amountMin',aggfunc=np.sum)\n",
    "\n",
    "plt.figure(figsize=(9,9))\n",
    "#bar graph\n",
    "plt.barh(table.index,table['prices.amountMin'])\n",
    "\n",
    "#xticks \n",
    "plt.xticks(rotation=70) \n",
    "\n",
    "#x-axis labels \n",
    "plt.xlabel('Minimum Revenue') \n",
    "\n",
    "#y-axis labels \n",
    "plt.ylabel('Brands') \n",
    "\n",
    "#plot title \n",
    "plt.title('Brand Revenue') \n",
    "\n",
    "#display \n",
    "plt.show();"
   ]
  },
  {
   "cell_type": "markdown",
   "metadata": {},
   "source": [
    "The plot indicates the popularity of those brands based on price. Lower the price higher will be it's popularity."
   ]
  },
  {
   "cell_type": "code",
   "execution_count": 19,
   "metadata": {},
   "outputs": [
    {
     "data": {
      "text/plain": [
       "<seaborn.axisgrid.FacetGrid at 0x1fc0201c640>"
      ]
     },
     "execution_count": 19,
     "metadata": {},
     "output_type": "execute_result"
    },
    {
     "data": {
      "text/plain": [
       "<Figure size 1440x1080 with 0 Axes>"
      ]
     },
     "metadata": {},
     "output_type": "display_data"
    },
    {
     "data": {
      "image/png": "[encoded data removed]",
      "text/plain": [
       "<Figure size 360x360 with 1 Axes>"
      ]
     },
     "metadata": {
      "needs_background": "light"
     },
     "output_type": "display_data"
    }
   ],
   "source": [
    "plt.figure(figsize=(20,15))\n",
    "sns.catplot(x=df['prices.amountMax'].head(500), y=df['prices.availability'].head(500),kind=\"violin\", data=df).set(title=\"Car prices depending on type\")"
   ]
  },
  {
   "cell_type": "markdown",
   "metadata": {},
   "source": [
    "The above violin plot indicates the availability of the prices for products and it's corresponding revenue. Special orders and genuine orders can be very expensive and go way beyond 1000 dollars"
   ]
  },
  {
   "cell_type": "code",
   "execution_count": 20,
   "metadata": {},
   "outputs": [
    {
     "name": "stderr",
     "output_type": "stream",
     "text": [
      "<__array_function__ internals>:5: RuntimeWarning: Converting input from bool to <class 'numpy.uint8'> for compatibility.\n",
      "<__array_function__ internals>:5: RuntimeWarning: Converting input from bool to <class 'numpy.uint8'> for compatibility.\n"
     ]
    },
    {
     "data": {
      "text/plain": [
       "<seaborn.axisgrid.PairGrid at 0x1fc0202fb80>"
      ]
     },
     "execution_count": 20,
     "metadata": {},
     "output_type": "execute_result"
    },
    {
     "data": {
      "text/plain": [
       "<Figure size 1440x1080 with 0 Axes>"
      ]
     },
     "metadata": {},
     "output_type": "display_data"
    },
    {
     "data": {
      "image/png": "[encoded data removed]",
      "text/plain": [
       "<Figure size 540x540 with 12 Axes>"
      ]
     },
     "metadata": {
      "needs_background": "light"
     },
     "output_type": "display_data"
    }
   ],
   "source": [
    "plt.figure(figsize=(20,15))\n",
    "sns.pairplot(df)"
   ]
  },
  {
   "cell_type": "markdown",
   "metadata": {},
   "source": [
    "The plot is hinting in the correlations of the numeric variables. The Maximum and minimum amounts have a linear correlation and also the prices which are on sale have the highest minimum value"
   ]
  },
  {
   "cell_type": "markdown",
   "metadata": {},
   "source": [
    "### Handling non numeric features"
   ]
  },
  {
   "cell_type": "markdown",
   "metadata": {},
   "source": [
    "##### Using ordinal encoding converted the non numeric features to numeric "
   ]
  },
  {
   "cell_type": "code",
   "execution_count": 21,
   "metadata": {},
   "outputs": [],
   "source": [
    "df_ord = df.copy()"
   ]
  },
  {
   "cell_type": "code",
   "execution_count": 22,
   "metadata": {},
   "outputs": [],
   "source": [
    "from pandas.api.types import is_categorical_dtype, is_string_dtype, is_int64_dtype, is_float_dtype, is_bool_dtype\n",
    "\n",
    "def df_string_to_cat(df):\n",
    "    for col in df.columns:\n",
    "        if is_string_dtype(df[col]):\n",
    "            df[col] = df[col].astype('category').cat.as_ordered()\n",
    "            \n",
    "\n",
    "def df_cat_to_catcode(df):\n",
    "    for col in df.columns:\n",
    "        if is_categorical_dtype(df[col]):\n",
    "            df[col] = df[col].cat.codes + 1\n",
    "            \n",
    "df_string_to_cat(df_ord)\n",
    "df_cat_to_catcode(df_ord)"
   ]
  },
  {
   "cell_type": "code",
   "execution_count": 23,
   "metadata": {},
   "outputs": [],
   "source": [
    "df_ord['prices.isSale'] = df_ord['prices.isSale'].astype(int)"
   ]
  },
  {
   "cell_type": "code",
   "execution_count": 24,
   "metadata": {},
   "outputs": [
    {
     "data": {
      "text/html": [
       "<div>\n",
       "<style scoped>\n",
       "    .dataframe tbody tr th:only-of-type {\n",
       "        vertical-align: middle;\n",
       "    }\n",
       "\n",
       "    .dataframe tbody tr th {\n",
       "        vertical-align: top;\n",
       "    }\n",
       "\n",
       "    .dataframe thead th {\n",
       "        text-align: right;\n",
       "    }\n",
       "</style>\n",
       "<table border=\"1\" class=\"dataframe\">\n",
       "  <thead>\n",
       "    <tr style=\"text-align: right;\">\n",
       "      <th></th>\n",
       "      <th>data type</th>\n",
       "      <th>percent missing</th>\n",
       "      <th>No. unique</th>\n",
       "      <th>unique values</th>\n",
       "    </tr>\n",
       "  </thead>\n",
       "  <tbody>\n",
       "    <tr>\n",
       "      <th>primaryCategories</th>\n",
       "      <td>int8</td>\n",
       "      <td>0.0</td>\n",
       "      <td>6</td>\n",
       "      <td>[4, 3, 5, 2, 1, 6]</td>\n",
       "    </tr>\n",
       "    <tr>\n",
       "      <th>prices.availability</th>\n",
       "      <td>int8</td>\n",
       "      <td>0.0</td>\n",
       "      <td>17</td>\n",
       "      <td>[17, 6, 15, 16, 11, 14, 10, 9, 13, 5, 12, 2, 3...</td>\n",
       "    </tr>\n",
       "    <tr>\n",
       "      <th>prices.currency</th>\n",
       "      <td>int8</td>\n",
       "      <td>0.0</td>\n",
       "      <td>5</td>\n",
       "      <td>[5, 1, 4, 2, 3]</td>\n",
       "    </tr>\n",
       "    <tr>\n",
       "      <th>id</th>\n",
       "      <td>int16</td>\n",
       "      <td>0.0</td>\n",
       "      <td>1245</td>\n",
       "      <td>[830, 689, 289, 546, 816, 836, 305, 1241, 180,...</td>\n",
       "    </tr>\n",
       "    <tr>\n",
       "      <th>sourceURLs</th>\n",
       "      <td>int16</td>\n",
       "      <td>0.0</td>\n",
       "      <td>1192</td>\n",
       "      <td>[776, 74, 276, 837, 202, 668, 703, 441, 827, 7...</td>\n",
       "    </tr>\n",
       "    <tr>\n",
       "      <th>...</th>\n",
       "      <td>...</td>\n",
       "      <td>...</td>\n",
       "      <td>...</td>\n",
       "      <td>...</td>\n",
       "    </tr>\n",
       "    <tr>\n",
       "      <th>upc</th>\n",
       "      <td>int16</td>\n",
       "      <td>0.0</td>\n",
       "      <td>654</td>\n",
       "      <td>[410, 316, 448, 384, 88, 321, 45, 550, 482, 57...</td>\n",
       "    </tr>\n",
       "    <tr>\n",
       "      <th>weight</th>\n",
       "      <td>int16</td>\n",
       "      <td>0.0</td>\n",
       "      <td>805</td>\n",
       "      <td>[538, 275, 136, 262, 173, 128, 131, 16, 487, 7...</td>\n",
       "    </tr>\n",
       "    <tr>\n",
       "      <th>prices.isSale</th>\n",
       "      <td>int32</td>\n",
       "      <td>0.0</td>\n",
       "      <td>2</td>\n",
       "      <td>[0, 1]</td>\n",
       "    </tr>\n",
       "    <tr>\n",
       "      <th>prices.amountMin</th>\n",
       "      <td>float64</td>\n",
       "      <td>0.0</td>\n",
       "      <td>4907</td>\n",
       "      <td>[104.99, 64.99, 69.0, 69.99, 66.99, 66.0, 74.9...</td>\n",
       "    </tr>\n",
       "    <tr>\n",
       "      <th>prices.amountMax</th>\n",
       "      <td>float64</td>\n",
       "      <td>0.0</td>\n",
       "      <td>4697</td>\n",
       "      <td>[104.99, 69.0, 69.99, 66.99, 66.0, 74.99, 65.9...</td>\n",
       "    </tr>\n",
       "  </tbody>\n",
       "</table>\n",
       "<p>21 rows × 4 columns</p>\n",
       "</div>"
      ],
      "text/plain": [
       "                    data type  percent missing  No. unique  \\\n",
       "primaryCategories        int8              0.0           6   \n",
       "prices.availability      int8              0.0          17   \n",
       "prices.currency          int8              0.0           5   \n",
       "id                      int16              0.0        1245   \n",
       "sourceURLs              int16              0.0        1192   \n",
       "...                       ...              ...         ...   \n",
       "upc                     int16              0.0         654   \n",
       "weight                  int16              0.0         805   \n",
       "prices.isSale           int32              0.0           2   \n",
       "prices.amountMin      float64              0.0        4907   \n",
       "prices.amountMax      float64              0.0        4697   \n",
       "\n",
       "                                                         unique values  \n",
       "primaryCategories                                   [4, 3, 5, 2, 1, 6]  \n",
       "prices.availability  [17, 6, 15, 16, 11, 14, 10, 9, 13, 5, 12, 2, 3...  \n",
       "prices.currency                                        [5, 1, 4, 2, 3]  \n",
       "id                   [830, 689, 289, 546, 816, 836, 305, 1241, 180,...  \n",
       "sourceURLs           [776, 74, 276, 837, 202, 668, 703, 441, 827, 7...  \n",
       "...                                                                ...  \n",
       "upc                  [410, 316, 448, 384, 88, 321, 45, 550, 482, 57...  \n",
       "weight               [538, 275, 136, 262, 173, 128, 131, 16, 487, 7...  \n",
       "prices.isSale                                                   [0, 1]  \n",
       "prices.amountMin     [104.99, 64.99, 69.0, 69.99, 66.99, 66.0, 74.9...  \n",
       "prices.amountMax     [104.99, 69.0, 69.99, 66.99, 66.0, 74.99, 65.9...  \n",
       "\n",
       "[21 rows x 4 columns]"
      ]
     },
     "execution_count": 24,
     "metadata": {},
     "output_type": "execute_result"
    }
   ],
   "source": [
    "data_info(df_ord)"
   ]
  },
  {
   "cell_type": "markdown",
   "metadata": {},
   "source": [
    "### Initial Model"
   ]
  },
  {
   "cell_type": "code",
   "execution_count": 25,
   "metadata": {},
   "outputs": [],
   "source": [
    "df = df_ord.copy()"
   ]
  },
  {
   "cell_type": "code",
   "execution_count": 26,
   "metadata": {},
   "outputs": [],
   "source": [
    "X = df.drop('prices.isSale', axis=1)\n",
    "y = df['prices.isSale']"
   ]
  },
  {
   "cell_type": "code",
   "execution_count": 27,
   "metadata": {},
   "outputs": [],
   "source": [
    "def test(X,y):\n",
    "    oob_scores = []\n",
    "\n",
    "    for i in range(10):\n",
    "        X_train, X_val, y_train, y_val = train_test_split(X, y, test_size=0.2)\n",
    "        rf = RandomForestClassifier(n_estimators=100, n_jobs=-1, oob_score=True) \n",
    "        rf.fit(X_train, y_train)\n",
    "        oob_scores.append(rf.oob_score_)\n",
    "        oob = rf.oob_score_\n",
    "        n = rfnnodes(rf)\n",
    "        h = np.median(rfmaxdepths(rf))\n",
    "        \n",
    "    print(\"Out-of-bag scores: \\n\", oob_scores)\n",
    "    print(\"Mean oob score: \", np.mean(oob_scores))\n",
    "    print(\"\")\n",
    "    print(f\"OOB R^2 is {np.mean(oob):.5f} using {np.mean(n)} tree nodes with {np.mean(h)} median tree depth\")\n",
    "    return rf,oob"
   ]
  },
  {
   "cell_type": "code",
   "execution_count": 28,
   "metadata": {},
   "outputs": [],
   "source": [
    "def showimp(rf, X, y):\n",
    "    features = list(X.columns)\n",
    "    I = importances(rf, X, y, features=features)\n",
    "    plt.figure(figsize=(15,15))\n",
    "    plot_importances(I, color='#4575b4')"
   ]
  },
  {
   "cell_type": "code",
   "execution_count": 29,
   "metadata": {},
   "outputs": [
    {
     "name": "stdout",
     "output_type": "stream",
     "text": [
      "Out-of-bag scores: \n",
      " [0.7821468345755161, 0.7787201233616037, 0.7811188212113425, 0.7832605157200377, 0.7801764756275165, 0.7849738713269939, 0.7802621434078643, 0.7823181701362117, 0.7820611667951683, 0.7783774522402125]\n",
      "Mean oob score:  0.7813415574402468\n",
      "\n",
      "OOB R^2 is 0.77838 using 417992.0 tree nodes with 33.0 median tree depth\n"
     ]
    }
   ],
   "source": [
    "rf,mean_oob_baseline = test(X,y)"
   ]
  },
  {
   "cell_type": "code",
   "execution_count": 30,
   "metadata": {},
   "outputs": [
    {
     "data": {
      "image/png": "[encoded data removed]",
      "text/plain": [
       "<Figure size 288x318.24 with 1 Axes>"
      ]
     },
     "metadata": {
      "needs_background": "light"
     },
     "output_type": "display_data"
    }
   ],
   "source": [
    "showimp(rf,X,y) #Shows which features have the at most importance in prediction"
   ]
  },
  {
   "cell_type": "markdown",
   "metadata": {},
   "source": [
    "### Feature Engineering"
   ]
  },
  {
   "cell_type": "markdown",
   "metadata": {},
   "source": [
    "###### Removing unimportant features"
   ]
  },
  {
   "cell_type": "code",
   "execution_count": 31,
   "metadata": {},
   "outputs": [],
   "source": [
    "list1 = ['prices.currency','primaryCategories','name','imageURLs',\n",
    "        'sourceURLs','keys','categories','brand']\n",
    "df.drop(list1,axis=1, inplace=True)"
   ]
  },
  {
   "cell_type": "markdown",
   "metadata": {},
   "source": [
    "###### Adding a new feature - discounted price"
   ]
  },
  {
   "cell_type": "code",
   "execution_count": 32,
   "metadata": {},
   "outputs": [],
   "source": [
    "initial_price = df['prices.amountMax']\n",
    "final_price = df['prices.amountMin']\n",
    "\n",
    "df['prices.discount'] = ((initial_price-final_price)/(initial_price))*100"
   ]
  },
  {
   "cell_type": "code",
   "execution_count": 33,
   "metadata": {},
   "outputs": [
    {
     "data": {
      "text/html": [
       "<div>\n",
       "<style scoped>\n",
       "    .dataframe tbody tr th:only-of-type {\n",
       "        vertical-align: middle;\n",
       "    }\n",
       "\n",
       "    .dataframe tbody tr th {\n",
       "        vertical-align: top;\n",
       "    }\n",
       "\n",
       "    .dataframe thead th {\n",
       "        text-align: right;\n",
       "    }\n",
       "</style>\n",
       "<table border=\"1\" class=\"dataframe\">\n",
       "  <thead>\n",
       "    <tr style=\"text-align: right;\">\n",
       "      <th></th>\n",
       "      <th>data type</th>\n",
       "      <th>percent missing</th>\n",
       "      <th>No. unique</th>\n",
       "      <th>unique values</th>\n",
       "    </tr>\n",
       "  </thead>\n",
       "  <tbody>\n",
       "    <tr>\n",
       "      <th>prices.availability</th>\n",
       "      <td>int8</td>\n",
       "      <td>0.0</td>\n",
       "      <td>17</td>\n",
       "      <td>[17, 6, 15, 16, 11, 14, 10, 9, 13, 5, 12, 2, 3...</td>\n",
       "    </tr>\n",
       "    <tr>\n",
       "      <th>id</th>\n",
       "      <td>int16</td>\n",
       "      <td>0.0</td>\n",
       "      <td>1245</td>\n",
       "      <td>[830, 689, 289, 546, 816, 836, 305, 1241, 180,...</td>\n",
       "    </tr>\n",
       "    <tr>\n",
       "      <th>prices.dateSeen</th>\n",
       "      <td>int16</td>\n",
       "      <td>0.0</td>\n",
       "      <td>6984</td>\n",
       "      <td>[608, 5398, 3086, 3691, 2708, 4374, 2328, 2261...</td>\n",
       "    </tr>\n",
       "    <tr>\n",
       "      <th>prices.sourceURLs</th>\n",
       "      <td>int16</td>\n",
       "      <td>0.0</td>\n",
       "      <td>8520</td>\n",
       "      <td>[928, 7150, 7149, 3732, 381, 382, 3878, 2976, ...</td>\n",
       "    </tr>\n",
       "    <tr>\n",
       "      <th>asins</th>\n",
       "      <td>int16</td>\n",
       "      <td>0.0</td>\n",
       "      <td>1245</td>\n",
       "      <td>[265, 706, 91, 522, 61, 298, 520, 393, 619, 53...</td>\n",
       "    </tr>\n",
       "    <tr>\n",
       "      <th>...</th>\n",
       "      <td>...</td>\n",
       "      <td>...</td>\n",
       "      <td>...</td>\n",
       "      <td>...</td>\n",
       "    </tr>\n",
       "    <tr>\n",
       "      <th>weight</th>\n",
       "      <td>int16</td>\n",
       "      <td>0.0</td>\n",
       "      <td>805</td>\n",
       "      <td>[538, 275, 136, 262, 173, 128, 131, 16, 487, 7...</td>\n",
       "    </tr>\n",
       "    <tr>\n",
       "      <th>prices.isSale</th>\n",
       "      <td>int32</td>\n",
       "      <td>0.0</td>\n",
       "      <td>2</td>\n",
       "      <td>[0, 1]</td>\n",
       "    </tr>\n",
       "    <tr>\n",
       "      <th>prices.amountMax</th>\n",
       "      <td>float64</td>\n",
       "      <td>0.0</td>\n",
       "      <td>4697</td>\n",
       "      <td>[104.99, 69.0, 69.99, 66.99, 66.0, 74.99, 65.9...</td>\n",
       "    </tr>\n",
       "    <tr>\n",
       "      <th>prices.amountMin</th>\n",
       "      <td>float64</td>\n",
       "      <td>0.0</td>\n",
       "      <td>4907</td>\n",
       "      <td>[104.99, 64.99, 69.0, 69.99, 66.99, 66.0, 74.9...</td>\n",
       "    </tr>\n",
       "    <tr>\n",
       "      <th>prices.discount</th>\n",
       "      <td>float64</td>\n",
       "      <td>0.0</td>\n",
       "      <td>1066</td>\n",
       "      <td>[0.0, 5.811594202898558, 7.246376811594203, 50...</td>\n",
       "    </tr>\n",
       "  </tbody>\n",
       "</table>\n",
       "<p>14 rows × 4 columns</p>\n",
       "</div>"
      ],
      "text/plain": [
       "                    data type  percent missing  No. unique  \\\n",
       "prices.availability      int8              0.0          17   \n",
       "id                      int16              0.0        1245   \n",
       "prices.dateSeen         int16              0.0        6984   \n",
       "prices.sourceURLs       int16              0.0        8520   \n",
       "asins                   int16              0.0        1245   \n",
       "...                       ...              ...         ...   \n",
       "weight                  int16              0.0         805   \n",
       "prices.isSale           int32              0.0           2   \n",
       "prices.amountMax      float64              0.0        4697   \n",
       "prices.amountMin      float64              0.0        4907   \n",
       "prices.discount       float64              0.0        1066   \n",
       "\n",
       "                                                         unique values  \n",
       "prices.availability  [17, 6, 15, 16, 11, 14, 10, 9, 13, 5, 12, 2, 3...  \n",
       "id                   [830, 689, 289, 546, 816, 836, 305, 1241, 180,...  \n",
       "prices.dateSeen      [608, 5398, 3086, 3691, 2708, 4374, 2328, 2261...  \n",
       "prices.sourceURLs    [928, 7150, 7149, 3732, 381, 382, 3878, 2976, ...  \n",
       "asins                [265, 706, 91, 522, 61, 298, 520, 393, 619, 53...  \n",
       "...                                                                ...  \n",
       "weight               [538, 275, 136, 262, 173, 128, 131, 16, 487, 7...  \n",
       "prices.isSale                                                   [0, 1]  \n",
       "prices.amountMax     [104.99, 69.0, 69.99, 66.99, 66.0, 74.99, 65.9...  \n",
       "prices.amountMin     [104.99, 64.99, 69.0, 69.99, 66.99, 66.0, 74.9...  \n",
       "prices.discount      [0.0, 5.811594202898558, 7.246376811594203, 50...  \n",
       "\n",
       "[14 rows x 4 columns]"
      ]
     },
     "execution_count": 33,
     "metadata": {},
     "output_type": "execute_result"
    }
   ],
   "source": [
    "data_info(df)"
   ]
  },
  {
   "cell_type": "markdown",
   "metadata": {},
   "source": [
    "### Final Model"
   ]
  },
  {
   "cell_type": "code",
   "execution_count": 34,
   "metadata": {},
   "outputs": [],
   "source": [
    "X = df.drop('prices.isSale', axis=1)\n",
    "y = df['prices.isSale']"
   ]
  },
  {
   "cell_type": "code",
   "execution_count": 35,
   "metadata": {},
   "outputs": [
    {
     "name": "stdout",
     "output_type": "stream",
     "text": [
      "Out-of-bag scores: \n",
      " [0.8295211171078557, 0.8268654159170736, 0.8254947314315086, 0.8300351237899426, 0.8265227447956823, 0.8256660669922042, 0.8254090636511608, 0.8313201404951598, 0.828493103743682, 0.829863788229247]\n",
      "Mean oob score:  0.8279191296153516\n",
      "\n",
      "OOB R^2 is 0.82986 using 317500.0 tree nodes with 31.0 median tree depth\n"
     ]
    }
   ],
   "source": [
    "rf,oob = test(X,y)"
   ]
  },
  {
   "cell_type": "code",
   "execution_count": 36,
   "metadata": {},
   "outputs": [
    {
     "data": {
      "image/png": "[encoded data removed]",
      "text/plain": [
       "<Figure size 288x207.36 with 1 Axes>"
      ]
     },
     "metadata": {
      "needs_background": "light"
     },
     "output_type": "display_data"
    }
   ],
   "source": [
    "showimp(rf,X,y)"
   ]
  },
  {
   "cell_type": "markdown",
   "metadata": {},
   "source": [
    "As we can see that the model is able to successfully and accurately predict whether a particular brand will go on sale or not. We are getting an accuracy of around 83% which increased from our initial accuracy of 78% after doing some feature engineering, indicating that there were some columns that were restricting the model prediction accuracy."
   ]
  }
 ],
 "metadata": {
  "kernelspec": {
   "display_name": "Python 3 (ipykernel)",
   "language": "python",
   "name": "python3"
  },
  "language_info": {
   "codemirror_mode": {
    "name": "ipython",
    "version": 3
   },
   "file_extension": ".py",
   "mimetype": "text/x-python",
   "name": "python",
   "nbconvert_exporter": "python",
   "pygments_lexer": "ipython3",
   "version": "3.9.7"
  }
 },
 "nbformat": 4,
 "nbformat_minor": 4
}
